{
 "cells": [
  {
   "cell_type": "code",
   "execution_count": 2,
   "id": "3a3ac248",
   "metadata": {},
   "outputs": [],
   "source": [
    "from selenium import webdriver\n",
    "import time\n",
    "import os\n",
    "import shutil\n",
    "from selenium.webdriver.common.keys import Keys\n",
    "from selenium.common.exceptions import NoSuchElementException\n",
    "from selenium.webdriver.chrome.options import Options\n",
    "\n",
    "from datetime import datetime\n",
    "\n",
    "\n",
    "import jaydebeapi\n",
    "import clipboard # 클립보드 자동저장 \n",
    "import numpy as np \n",
    "import pandas as pd \n",
    "\n",
    "import xlwt"
   ]
  },
  {
   "cell_type": "markdown",
   "id": "9d8ffad4",
   "metadata": {},
   "source": [
    "### 작업개요 ###\n",
    "- 기존 db에 저장되지 않으며 csv파일 작업이 끝난 후 수작업을 전제로 진행 \n",
    "- db가 아닌 db에 저장할 insert 쿼리문을 저장함 \n",
    "- 파일명도 일정하지 않고 다운받는 링크가 일정하지 않기 때문에 수작업 진행필요 \n",
    "- 쿼리문과 기본적인 정보가 중복되지 않게 데이터프레임 생성 후 확인 "
   ]
  },
  {
   "cell_type": "code",
   "execution_count": 3,
   "id": "cfeb50ec",
   "metadata": {},
   "outputs": [],
   "source": [
    "# 크롬드라이버 다운로드 후, path 설정\n",
    "executable_path = r'C:/euclid/chromedriver/chromedriver.exe'\n",
    "# csv 파일 다운로드 위치\n",
    "current_file_path = 'C:/Users/yoonsub/Downloads'\n",
    "# csv 파일 이동 dir 위치\n",
    "destination_path = 'C:/euclid/nl2sql/ws'\n",
    "\n",
    "driver = webdriver.Chrome(executable_path=executable_path)\n",
    "\n",
    "# 시간\n",
    "now = datetime.now()\n",
    "\n"
   ]
  },
  {
   "cell_type": "code",
   "execution_count": null,
   "id": "53b9f5fb",
   "metadata": {
    "scrolled": true
   },
   "outputs": [],
   "source": [
    "##### 수작업으로 페이지 정보 쿼리를 만들고 그 쿼리문은 후에 sql 실행을 위해 저장해둘것. \n",
    "# 몇번째 목록 정보를 가져올것인가. \n",
    "\n",
    "page_number = int(input(\"크롤링할 excel용 url 페이지 넘버입력 \" ))\n",
    "li_number = int(input(\"순서에 맞게 입력\" ))\n",
    "max_id = (page_number*10) + li_number + 4400 - 10  \n",
    "\n",
    "\n",
    "#url\n",
    "url = f'https://www.data.go.kr/tcs/dss/selectDataSetList.do?dType=FILE&keyword=&detailKeyword=&publicDataPk=&recmSe=N&detailText=&relatedKeyword=&commaNotInData=&commaAndData=&commaOrData=&must_not=&tabId=&dataSetCoreTf=&coreDataNm=&sort=&relRadio=&orgFullName=&orgFilter=&org=&orgSearch=&currentPage={page_number}&perPage=10&brm=&instt=&svcType=&kwrdArray=&extsn=XLS&coreDataNmArray=&pblonsipScopeCode='\n",
    "\n",
    "\n",
    "# 확장자 xlxs\n",
    "transportation_url1  = f'https://www.data.go.kr/tcs/dss/selectDataSetList.do?dType=FILE&keyword=&detailKeyword=&publicDataPk=&recmSe=N&detailText=&relatedKeyword=&commaNotInData=&commaAndData=&commaOrData=&must_not=&tabId=&dataSetCoreTf=&coreDataNm=&sort=&relRadio=&orgFullName=&orgFilter=&org=&orgSearch=&currentPage={page_number}&perPage=10&brm=%EA%B5%90%ED%86%B5%EB%AC%BC%EB%A5%98&instt=&svcType=&kwrdArray=&extsn=XLSX&coreDataNmArray=&pblonsipScopeCode='\n",
    "wether_url1 = f\"https://www.data.go.kr/tcs/dss/selectDataSetList.do?dType=FILE&keyword=&detailKeyword=&publicDataPk=&recmSe=N&detailText=&relatedKeyword=&commaNotInData=&commaAndData=&commaOrData=&must_not=&tabId=&dataSetCoreTf=&coreDataNm=&sort=&relRadio=&orgFullName=&orgFilter=&org=&orgSearch=&currentPage={page_number}&perPage=10&brm=%ED%99%98%EA%B2%BD%EA%B8%B0%EC%83%81&instt=&svcType=&kwrdArray=&extsn=XLSX&coreDataNmArray=&pblonsipScopeCode=\"\n",
    "edu_url1 = f\"https://www.data.go.kr/tcs/dss/selectDataSetList.do?dType=FILE&keyword=&detailKeyword=&publicDataPk=&recmSe=N&detailText=&relatedKeyword=&commaNotInData=&commaAndData=&commaOrData=&must_not=&tabId=&dataSetCoreTf=&coreDataNm=&sort=&relRadio=&orgFullName=&orgFilter=&org=&orgSearch=&currentPage={page_number}&perPage=10&brm=%EA%B5%90%EC%9C%A1&instt=&svcType=&kwrdArray=&extsn=XLSX&coreDataNmArray=&pblonsipScopeCode=\"\n",
    "# 확장자 xls\n",
    "transportation_url2 = f'https://www.data.go.kr/tcs/dss/selectDataSetList.do?dType=FILE&keyword=&detailKeyword=&publicDataPk=&recmSe=N&detailText=&relatedKeyword=&commaNotInData=&commaAndData=&commaOrData=&must_not=&tabId=&dataSetCoreTf=&coreDataNm=&sort=&relRadio=&orgFullName=&orgFilter=&org=&orgSearch=&currentPage={page_number}&perPage=10&brm=%EA%B5%90%ED%86%B5%EB%AC%BC%EB%A5%98&instt=&svcType=&kwrdArray=&extsn=XLS&coreDataNmArray=&pblonsipScopeCode='\n",
    "wether_url2 = f\"https://www.data.go.kr/tcs/dss/selectDataSetList.do?dType=FILE&keyword=&detailKeyword=&publicDataPk=&recmSe=N&detailText=&relatedKeyword=&commaNotInData=&commaAndData=&commaOrData=&must_not=&tabId=&dataSetCoreTf=&coreDataNm=&sort=&relRadio=&orgFullName=&orgFilter=&org=&orgSearch=&currentPage={page_number}&perPage=10&brm=%ED%99%98%EA%B2%BD%EA%B8%B0%EC%83%81&instt=&svcType=&kwrdArray=&extsn=XLS&coreDataNmArray=&pblonsipScopeCode=\"\n",
    "edu_url2 = f\"https://www.data.go.kr/tcs/dss/selectDataSetList.do?dType=FILE&keyword=&detailKeyword=&publicDataPk=&recmSe=N&detailText=&relatedKeyword=&commaNotInData=&commaAndData=&commaOrData=&must_not=&tabId=&dataSetCoreTf=&coreDataNm=&sort=&relRadio=&orgFullName=&orgFilter=&org=&orgSearch=&currentPage={page_number}&perPage=10&brm=%EA%B5%90%EC%9C%A1&instt=&svcType=&kwrdArray=&extsn=XLS&coreDataNmArray=&pblonsipScopeCode=\"\n",
    "\n",
    "\n",
    "#json 파일 \n",
    "json_file = f'https://www.data.go.kr/tcs/dss/selectDataSetList.do?dType=FILE&keyword=&detailKeyword=&publicDataPk=&recmSe=N&detailText=&relatedKeyword=&commaNotInData=&commaAndData=&commaOrData=&must_not=&tabId=&dataSetCoreTf=&coreDataNm=&sort=&relRadio=&orgFullName=&orgFilter=&org=&orgSearch=&currentPage={page_number}&perPage=10&brm=&instt=&svcType=&kwrdArray=&extsn=JSON&coreDataNmArray=&pblonsipScopeCode='\n",
    "\n",
    "\n",
    "driver.get(json_file)\n",
    "\n",
    "\n",
    "# 2.DATA_BASIC_INFO 테이블 필요 데이터 search\n",
    "\n",
    "driver.find_element_by_xpath(f'//*[@id=\"fileDataList\"]/div[2]/ul/li[{li_number}]/div[2]/a').send_keys(Keys.ENTER)\n",
    "category = driver.find_element_by_xpath(f'//*[@id=\"fileDataList\"]/div[2]/ul/li[{li_number}]/p/span[1]').text\n",
    "desc = driver.find_element_by_xpath(f'//*[@id=\"fileDataList\"]/div[2]/ul/li[{li_number}]/dl/dd').text.replace(\"'\",\"\").replace(\",\",\" \")\n",
    "name = driver.find_element_by_xpath(f'//*[@id=\"fileDataList\"]/div[2]/ul/li[{li_number}]/dl/dt/a/span[@class=\"title\"]').text\n",
    "url = driver.find_element_by_xpath(f'//*[@id=\"fileDataList\"]/div[2]/ul/li[{li_number}]/dl/dt/a').get_attribute('href')\n",
    "key = url.split('/')[-2]\n",
    "\n",
    "sql = f\"INSERT INTO DATA_BASIC_INFO(id, collect_site_id, category_big, category_small, data_name, data_description, provide_url_link, provide_data_type, collect_data_type, collect_url_link, is_collect_yn, data_origin_key) VALUES('{max_id}', 2, '공공데이터', '{category}', '{name}', '{desc}', '[{url}]', '[File]', '[File]', '[{url}]', 'N', '{key}') ;\"\n",
    "\n",
    "\n",
    "with open('1.save_basicdb_info.txt' ,'a' ,encoding='cp949') as f : \n",
    "    f.write(str(max_id) + \", \"+ name +\", \"+ key + \",\" + sql + \"\\n\" )   \n",
    "with open('2.save_basicdb_qeury.txt' ,'a' ,encoding='cp949') as f : \n",
    "    f.write(key + \",\" +  sql + \"\\n\" )   \n",
    "    \n",
    "with open('2.save_basicdb_qeury.csv' ,'a' ,encoding='cp949') as f : \n",
    "    f.write(key + \",\" +  sql + \"\\n\" )   \n",
    "    \n",
    "    \n",
    "# 파일명 클립보드 자동저장  , 다운로드 파일이름 바꿔줄것.!! \n",
    "clipboard.copy(name)  \n",
    "\n",
    "print('#'*100)\n",
    "print()\n",
    "print(name)\n",
    "print()\n",
    "print('#'*100)"
   ]
  },
  {
   "cell_type": "code",
   "execution_count": 4,
   "id": "6f20f73d",
   "metadata": {},
   "outputs": [],
   "source": [
    "# 무결성 확인 후  데이터프레임으로 inner join 후에  쿼리문만 내보내기 "
   ]
  },
  {
   "cell_type": "code",
   "execution_count": 5,
   "id": "14357ddc",
   "metadata": {},
   "outputs": [],
   "source": [
    "# 각각데이터 프레임 로드 후 중복 행 ex) 중복행을 삭제 \n",
    "# 2.save_basicdb_qeury.txt 엑셀로 utf-8 로 새로 저장 후 새로운 파일 로드   \n",
    "\n",
    "#  각각 df 합치기 , inner join \n",
    "# df_INNER_JOIN = pd.merge(df1, df2,left_on=2,  right_on=0, how='right')\n",
    "# re_data = df_INNER_JOIN.iloc[: , 5:]\n",
    "# re_data = re_data.to_csv(\"test.txt\", header=None , encoding = 'cp949' , index=False )\n",
    "# data = pd.read_csv(filename, encoding= 'unicode_escape')"
   ]
  }
 ],
 "metadata": {
  "kernelspec": {
   "display_name": "Python 3 (ipykernel)",
   "language": "python",
   "name": "python3"
  },
  "language_info": {
   "codemirror_mode": {
    "name": "ipython",
    "version": 3
   },
   "file_extension": ".py",
   "mimetype": "text/x-python",
   "name": "python",
   "nbconvert_exporter": "python",
   "pygments_lexer": "ipython3",
   "version": "3.8.13"
  }
 },
 "nbformat": 4,
 "nbformat_minor": 5
}
