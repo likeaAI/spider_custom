{
 "cells": [
  {
   "cell_type": "code",
   "execution_count": 1,
   "id": "ee87dd1e",
   "metadata": {},
   "outputs": [],
   "source": [
    "from selenium import webdriver\n",
    "import time\n",
    "import os\n",
    "from selenium.webdriver.common.keys import Keys\n",
    "from selenium.common.exceptions import NoSuchElementException\n",
    "from selenium.webdriver.chrome.options import Options\n",
    "import re "
   ]
  },
  {
   "cell_type": "code",
   "execution_count": 2,
   "id": "c82d0d30",
   "metadata": {},
   "outputs": [],
   "source": [
    "# 엑셀데이터 불러와서 여기서 처리하기 \n",
    "\n",
    "##\n"
   ]
  },
  {
   "cell_type": "code",
   "execution_count": 3,
   "id": "f4f11d6a",
   "metadata": {},
   "outputs": [],
   "source": [
    "# 크롬드라이버 다운로드 후, path 설정\n",
    "executable_path = r'C:/euclid/chromedriver/chromedriver.exe'\n",
    "driver = webdriver.Chrome(executable_path=executable_path)\n",
    "url = 'https://www.data.go.kr/'\n",
    "\n",
    "#driver.find_element_by_name(\"Value\").send_keys(Keys.RETURN"
   ]
  },
  {
   "cell_type": "code",
   "execution_count": 11,
   "id": "a9ad1e75",
   "metadata": {
    "scrolled": true
   },
   "outputs": [
    {
     "name": "stdout",
     "output_type": "stream",
     "text": [
      "입력 : 중소벤처기업진흥공단_청년연계형 내일채움공제 가입대상자 연계가입 희망 설문조사 결과\n",
      "https://www.data.go.kr/data/15102327/fileData.do\n"
     ]
    }
   ],
   "source": [
    "webdriver = driver.get(url)\n",
    "\n",
    "search = input(\"입력 : \")\n",
    "search = re.sub('[-=+,&#/\\?:^.@*\\\"※~ㆍ!』‘|\\(\\)\\[\\]`\\'…》\\”\\“\\’·;:_{}>]', ' ',search)  \n",
    "\n",
    "element = driver.find_element_by_id(\"keyword\")\n",
    "element.send_keys(search)\n",
    "element.send_keys(Keys.ENTER)\n",
    "\n",
    "element_02 = driver.find_element_by_xpath('//*[@id=\"fileDataList\"]/div[2]/ul/li[1]/dl/dt/a/span[2]')\n",
    "element_02.click()\n",
    "\n",
    "#driver.current_url 은 현재 페이지값을 저장한다. 산업통상자원부_석유수급 동향\n",
    "print(driver.current_url)\n",
    "\n",
    "body = driver.find_element_by_css_selector('body')\n",
    "body.send_keys(Keys.PAGE_DOWN)\n",
    "\n",
    "\n",
    "\n",
    "\n",
    "\n",
    "\n",
    "\n"
   ]
  },
  {
   "cell_type": "code",
   "execution_count": null,
   "id": "229d9670",
   "metadata": {},
   "outputs": [],
   "source": []
  }
 ],
 "metadata": {
  "kernelspec": {
   "display_name": "Python 3 (ipykernel)",
   "language": "python",
   "name": "python3"
  },
  "language_info": {
   "codemirror_mode": {
    "name": "ipython",
    "version": 3
   },
   "file_extension": ".py",
   "mimetype": "text/x-python",
   "name": "python",
   "nbconvert_exporter": "python",
   "pygments_lexer": "ipython3",
   "version": "3.9.13"
  }
 },
 "nbformat": 4,
 "nbformat_minor": 5
}
