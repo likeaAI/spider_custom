{
 "cells": [
  {
   "cell_type": "code",
   "execution_count": 17,
   "id": "e4880d86",
   "metadata": {},
   "outputs": [],
   "source": [
    "# test maridb에 test 해보기  #\n",
    "# 실시간 동기화까지는 어렵고 , 동기화 느낌이 나게 일정간격동안 체크하고 체크 조건에 안맞으면 강제 업데이트 해버림 \n",
    "\n",
    "import jaydebeapi\n",
    "import pymysql \n",
    "import pandas as pd \n",
    "from pandas import json_normalize\n",
    "import json"
   ]
  },
  {
   "cell_type": "code",
   "execution_count": 3,
   "id": "4cd74b64",
   "metadata": {},
   "outputs": [],
   "source": [
    "# 티베로 db 기준으로 데이터 확인 \n",
    "tibero_conn = jaydebeapi.connect(\n",
    "    \"com.tmax.tibero.jdbc.TbDriver\",\n",
    "    \"jdbc:tibero:thin:@172.7.0.23:8629:tibero\",\n",
    "    [\"labelon\", \"euclid!@)$labelon\"],\n",
    "    \"C:/Users/yoonsub/tibero6-jdbc.jar\",\n",
    ")\n",
    "tibero_cur = conn.cursor()"
   ]
  },
  {
   "cell_type": "code",
   "execution_count": 11,
   "id": "5209ae0e",
   "metadata": {},
   "outputs": [],
   "source": [
    "# 마리아db 연결  저장할 db \n",
    "maria_conn = pymysql.connect(host = '127.0.0.1' , user = 'root' , password = '1234' , db = 'labelon_dummy', charset='utf8' )\n",
    "maria_cur = maria_conn.cursor()\n"
   ]
  },
  {
   "cell_type": "code",
   "execution_count": 3,
   "id": "661193df",
   "metadata": {},
   "outputs": [
    {
     "name": "stdout",
     "output_type": "stream",
     "text": [
      "10186\n"
     ]
    }
   ],
   "source": [
    "# #실제 db 입력 쿼리대신 db에서 json 파일 로드 후 사용 \n",
    "# json_file = \"C:/Users/yoonsub/MANAGE_PHYSICAL_TABLE.json\" # table\n",
    "# with open(json_file, 'r', encoding='utf8') as f:\n",
    "#     json_data_table = json.load(f)\n",
    "\n",
    "# json_file = \"C:/Users/yoonsub/MANAGE_PHYSICAL_COLUMN.json\" # column\n",
    "# with open(json_file, 'r', encoding='utf8') as e:\n",
    "#     json_data_colum = json.load(e)\n",
    "\n",
    "# df1 = json_normalize(json_data_table)\n",
    "# df2 = json_normalize(json_data_colum)\n",
    "\n",
    "\n",
    "# print(len(df1.iloc[:]))\n"
   ]
  },
  {
   "cell_type": "code",
   "execution_count": 7,
   "id": "fe39662e",
   "metadata": {},
   "outputs": [
    {
     "name": "stderr",
     "output_type": "stream",
     "text": [
      "C:\\ProgramData\\Anaconda3\\lib\\site-packages\\pandas\\io\\sql.py:761: UserWarning: pandas only support SQLAlchemy connectable(engine/connection) ordatabase string URI or sqlite3 DBAPI2 connectionother DBAPI2 objects are not tested, please consider using SQLAlchemy\n",
      "  warnings.warn(\n",
      "C:\\ProgramData\\Anaconda3\\lib\\site-packages\\pandas\\io\\sql.py:761: UserWarning: pandas only support SQLAlchemy connectable(engine/connection) ordatabase string URI or sqlite3 DBAPI2 connectionother DBAPI2 objects are not tested, please consider using SQLAlchemy\n",
      "  warnings.warn(\n"
     ]
    }
   ],
   "source": [
    "# 티베로 db select 후 비교 \n",
    "\n",
    "select_table_sql = 'select * from manage_physical_table'\n",
    "select_column_sql = 'select * from manage_physical_column'\n",
    "df1 = pd.read_sql_query(select_table_sql , tibero_conn)\n",
    "df2  = pd.read_sql_query(select_column_sql , tibero_conn)\n",
    "\n"
   ]
  },
  {
   "cell_type": "code",
   "execution_count": 9,
   "id": "438a0996",
   "metadata": {},
   "outputs": [
    {
     "name": "stdout",
     "output_type": "stream",
     "text": [
      "10251\n"
     ]
    }
   ],
   "source": [
    "print(len(df1.iloc[:]))"
   ]
  },
  {
   "cell_type": "code",
   "execution_count": 12,
   "id": "00d7b541",
   "metadata": {},
   "outputs": [
    {
     "name": "stdout",
     "output_type": "stream",
     "text": [
      "오리지널 db와 행불일치로 데이터를 지우고 다시 insert 합니다. \n"
     ]
    }
   ],
   "source": [
    "# db 정보 비교 \n",
    "\n",
    "db_len = len(df1.iloc[:])\n",
    "\n",
    "\n",
    "count_mairadb_sql = \"select id from manage_physical_table\"\n",
    "maria_cur.execute(count_mairadb_sql)\n",
    "count = len(maria_cur.fetchall())\n",
    "\n",
    "# TRUNCATE \n",
    "truncate_sql_table = \"TRUNCATE TABLE manage_physical_table\"\n",
    "truncate_sql_column = \"TRUNCATE TABLE manage_physical_column\"\n",
    "\n",
    "if db_len != count : \n",
    "        print(\"오리지널 db와 행불일치로 데이터를 지우고 다시 insert 합니다. \")\n",
    "        maria_cur.execute(truncate_sql_table)\n",
    "        maria_cur.execute(truncate_sql_column)\n",
    "        \n",
    "else: \n",
    "    print(\"동일\")\n",
    "                      \n",
    "\n"
   ]
  },
  {
   "cell_type": "code",
   "execution_count": 13,
   "id": "256d5e95",
   "metadata": {},
   "outputs": [
    {
     "data": {
      "text/plain": [
       "ID                                    1805\n",
       "DATA_BASIC_ID                          219\n",
       "LOGICAL_TABLE_KOREAN     서울일자리센터 우수중소기업 정보\n",
       "LOGICAL_TABLE_ENGLISH     TN_SMEP_REQ_OPEN\n",
       "PHYSICAL_TABLE_NAME          NLDATA_000219\n",
       "Name: 1, dtype: object"
      ]
     },
     "execution_count": 13,
     "metadata": {},
     "output_type": "execute_result"
    }
   ],
   "source": [
    "# df1 table 정보 몇가지를 mysql로 옮긴다. \n",
    "insert_data = df1.iloc[1, 0:5]\n",
    "insert_data\n"
   ]
  },
  {
   "cell_type": "code",
   "execution_count": 14,
   "id": "9b0deb9c",
   "metadata": {},
   "outputs": [],
   "source": [
    "# table 정보 입력 , 실행시 테이블 비우기 후 입력되게 설계 필요 \n",
    "for i in range(len(df1.iloc[:])) : \n",
    "    ID = df1.iloc[i , 0]\n",
    "    DATA_BASIC_ID = df1.iloc[i , 1]\n",
    "    LOGICAL_TABLE_KOREAN = df1.iloc[i , 2]\n",
    "    LOGICAL_TABLE_ENGLISH = df1.iloc[i , 3]\n",
    "    PHYSICAL_TABLE_NAME = df1.iloc[i , 4]\n",
    "\n",
    "    mysql_insert_sql = f\"INSERT INTO MANAGE_PHYSICAL_TABLE (ID, DATA_BASIC_ID, LOGICAL_TABLE_KOREAN, LOGICAL_TABLE_ENGLISH, PHYSICAL_TABLE_NAME) VALUE ('{ID}', '{DATA_BASIC_ID}', '{LOGICAL_TABLE_KOREAN}','{LOGICAL_TABLE_ENGLISH}','{PHYSICAL_TABLE_NAME}')\" \n",
    "    maria_cur.execute(mysql_insert_sql)\n",
    "    maria_conn.commit()       \n",
    "        "
   ]
  },
  {
   "cell_type": "code",
   "execution_count": 15,
   "id": "c6d44baa",
   "metadata": {
    "scrolled": true
   },
   "outputs": [
    {
     "data": {
      "text/plain": [
       "ID                            28381\n",
       "DATA_PHYSICAL_ID               1495\n",
       "LOGICAL_COLUMN_KOREAN      노드 유형 코드\n",
       "LOGICAL_COLUMN_ENGLISH    NODE_CODE\n",
       "PHYSICAL_COLUMN_NAME        COL_004\n",
       "Name: 1, dtype: object"
      ]
     },
     "execution_count": 15,
     "metadata": {},
     "output_type": "execute_result"
    }
   ],
   "source": [
    "# df2 table 정보 몇가지를 mysql로 옮긴다. \n",
    "insert_data02 = df2.iloc[1, 0:5]\n",
    "insert_data02\n"
   ]
  },
  {
   "cell_type": "code",
   "execution_count": 16,
   "id": "402065ca",
   "metadata": {},
   "outputs": [],
   "source": [
    "# table 정보 입력 , 실행시 테이블 비우기 후 입력되게 설계 필요 \n",
    "\n",
    "\n",
    "for i in range(len(df2.iloc[:])) : \n",
    "    try : \n",
    "        ID = df2.iloc[i , 0]\n",
    "        DATA_PHYSICAL_ID = df2.iloc[i , 1]\n",
    "        LOGICAL_COLUMN_KOREAN = df2.iloc[i , 2]\n",
    "        LOGICAL_COLUMN_ENGLISH = df2.iloc[i , 3]\n",
    "        LOGICAL_COLUMN_ENGLISH = str(LOGICAL_COLUMN_ENGLISH)\n",
    "        PHYSICAL_COLUMN_NAME  = df2.iloc[i , 4]\n",
    "\n",
    "        mysql_insert_sql = f\"INSERT INTO MANAGE_PHYSICAL_COLUMN (ID, DATA_PHYSICAL_ID, LOGICAL_COLUMN_KOREAN, LOGICAL_COLUMN_ENGLISH, PHYSICAL_COLUMN_NAME ) VALUE ('{ID}', '{DATA_PHYSICAL_ID }', '{LOGICAL_COLUMN_KOREAN}','{LOGICAL_COLUMN_ENGLISH}','{PHYSICAL_COLUMN_NAME}')\" \n",
    "        maria_cur.execute(mysql_insert_sql)\n",
    "        maria_conn.commit()\n",
    "    except : \n",
    "        continue \n",
    "        \n",
    "\n",
    "\n"
   ]
  },
  {
   "cell_type": "code",
   "execution_count": null,
   "id": "151639f0",
   "metadata": {},
   "outputs": [],
   "source": []
  },
  {
   "cell_type": "code",
   "execution_count": null,
   "id": "576f606c",
   "metadata": {},
   "outputs": [],
   "source": []
  },
  {
   "cell_type": "code",
   "execution_count": null,
   "id": "99f370ef",
   "metadata": {},
   "outputs": [],
   "source": []
  },
  {
   "cell_type": "code",
   "execution_count": null,
   "id": "765285c3",
   "metadata": {},
   "outputs": [],
   "source": []
  },
  {
   "cell_type": "code",
   "execution_count": null,
   "id": "b27fc37d",
   "metadata": {},
   "outputs": [],
   "source": []
  },
  {
   "cell_type": "code",
   "execution_count": null,
   "id": "2b6cced0",
   "metadata": {},
   "outputs": [],
   "source": []
  },
  {
   "cell_type": "code",
   "execution_count": null,
   "id": "5699dc8c",
   "metadata": {},
   "outputs": [],
   "source": []
  }
 ],
 "metadata": {
  "kernelspec": {
   "display_name": "Python 3 (ipykernel)",
   "language": "python",
   "name": "python3"
  },
  "language_info": {
   "codemirror_mode": {
    "name": "ipython",
    "version": 3
   },
   "file_extension": ".py",
   "mimetype": "text/x-python",
   "name": "python",
   "nbconvert_exporter": "python",
   "pygments_lexer": "ipython3",
   "version": "3.9.12"
  }
 },
 "nbformat": 4,
 "nbformat_minor": 5
}
